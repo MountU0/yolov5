{
 "cells": [
  {
   "cell_type": "code",
   "execution_count": 12,
   "metadata": {},
   "outputs": [],
   "source": [
    "import numpy as np\n",
    "import pandas as pd\n",
    "import cv2\n",
    "import os"
   ]
  },
  {
   "cell_type": "markdown",
   "metadata": {},
   "source": [
    "Можно отрисовать бокс класса на изображении"
   ]
  },
  {
   "cell_type": "code",
   "execution_count": 2,
   "metadata": {},
   "outputs": [],
   "source": [
    "classes = ['Car','Van','Truck','Pedestrian','Person_sitting','Cyclist','Tram','Misc','DontCare']\n",
    "classes_to_num = {v:k for k,v in enumerate(classes)}\n",
    "num_to_classes = {k:v for k,v in enumerate(classes)}"
   ]
  },
  {
   "cell_type": "code",
   "execution_count": 5,
   "metadata": {},
   "outputs": [
    {
     "name": "stdout",
     "output_type": "stream",
     "text": [
      "312.0 200.0\n"
     ]
    },
    {
     "data": {
      "text/plain": [
       "-1"
      ]
     },
     "execution_count": 5,
     "metadata": {},
     "output_type": "execute_result"
    }
   ],
   "source": [
    "import cv2\n",
    "image = cv2.imread(r'D:\\kitti dataset\\kitti\\labeled\\images\\train\\000004.png')\n",
    "\n",
    "liness = []\n",
    "with open(r'D:/kitti dataset/kitti/labeled/legacy/train/labels_2/000004.txt','r') as f:\n",
    "    lines = f.readlines()\n",
    "    for i in lines:\n",
    "        line = i.split()\n",
    "        str_to_int = lambda x: int(float(x))\n",
    "        x1 = str_to_int(line[4])\n",
    "        y1 = str_to_int(line[5])\n",
    "        x2 = str_to_int(line[6])\n",
    "        y2 = str_to_int(line[7])\n",
    "        \n",
    "        if x1 > 1224: x1 = 1224\n",
    "        if x2 > 1224: x2 = 1224\n",
    "        if y1 > 370: y1 = 370\n",
    "        if y2 > 370: y2 = 370\n",
    "\n",
    "        x_coord = (x1 + (x2 - x1)/2)\n",
    "        y_coord = (y1 + (y2 - y1)/2)\n",
    "        w_coord = (x2 - x1) / 1224\n",
    "        h_coord = (y2 - y1) / 370\n",
    "\n",
    "        liness.append([classes_to_num[line[0]], x_coord/1224, y_coord/370, w_coord, h_coord])\n",
    "\n",
    "x1, y1 = liness[0][1] * 1224, liness[0][2] * 370\n",
    "\n",
    "print(x1,y1)\n",
    "image = cv2.circle(image, (int(x1), int(y1)), radius=3, color=(0,0,255), thickness=4)\n",
    "cv2.imshow('HelloWorld', image)\n",
    "cv2.waitKey(0)"
   ]
  },
  {
   "cell_type": "markdown",
   "metadata": {},
   "source": [
    "Creating a yolo label files"
   ]
  },
  {
   "cell_type": "code",
   "execution_count": 13,
   "metadata": {},
   "outputs": [],
   "source": [
    "classes = ['Car','Van','Truck','Pedestrian','Person_sitting','Cyclist','Tram','Misc','DontCare']\n",
    "classes_to_num = {v:k for k,v in enumerate(classes)}\n",
    "num_to_classes = {k:v for k,v in enumerate(classes)}"
   ]
  },
  {
   "cell_type": "code",
   "execution_count": 22,
   "metadata": {},
   "outputs": [],
   "source": [
    "label_path = \"D:/kitti dataset/kitti/labeled/legacy/train/labels_2\"\n",
    "label_path_new = \"D:/kitti dataset/kitti/labeled_2/labels/test\"\n",
    "\n",
    "counter = 0#added!!!\n",
    "for root, dirs, files in os.walk(label_path):\n",
    "    for filename in files:\n",
    "        counter += 1#added!!!\n",
    "        if counter < 75 or counter > 100: continue#added!!!\n",
    "        with open(os.path.join(label_path_new, filename),'w') as w:\n",
    "            with open(os.path.join(label_path,filename),'r') as f:\n",
    "                lines = f.readlines()\n",
    "                for i in lines:\n",
    "                    line = i.split()\n",
    "                    if classes_to_num[line[0]] < 4:#added!!!\n",
    "                        str_to_int = lambda x: int(float(x))\n",
    "                        \n",
    "                        x1 = str_to_int(line[4])\n",
    "                        y1 = str_to_int(line[5])\n",
    "                        x2 = str_to_int(line[6])\n",
    "                        y2 = str_to_int(line[7])\n",
    "                        \n",
    "                        if x1 > 1224: x1 = 1224\n",
    "                        if x2 > 1224: x2 = 1224\n",
    "                        if y1 > 370: y1 = 370\n",
    "                        if y2 > 370: y2 = 370\n",
    "\n",
    "                        x_coord = (x1 + (x2 - x1)/2)\n",
    "                        y_coord = (y1 + (y2 - y1)/2)\n",
    "                        w_coord = (x2 - x1) / 1224\n",
    "                        h_coord = (y2 - y1) / 370\n",
    "\n",
    "                        w.write( f'{classes_to_num[line[0]]} {x_coord/1224} {y_coord/370} {w_coord} {h_coord}' + '\\n')"
   ]
  },
  {
   "cell_type": "markdown",
   "metadata": {},
   "source": [
    "YOLO"
   ]
  },
  {
   "cell_type": "code",
   "execution_count": 5,
   "metadata": {},
   "outputs": [
    {
     "name": "stdout",
     "output_type": "stream",
     "text": [
      "Setup complete. Using torch 1.13.0 (NVIDIA GeForce GTX 1070)\n"
     ]
    }
   ],
   "source": [
    "import torch\n",
    "import os\n",
    "from IPython.display import Image, clear_output  # to display images\n",
    "\n",
    "print(f\"Setup complete. Using torch {torch.__version__} ({torch.cuda.get_device_properties(0).name if torch.cuda.is_available() else 'CPU'})\")"
   ]
  },
  {
   "cell_type": "code",
   "execution_count": null,
   "metadata": {},
   "outputs": [],
   "source": [
    "# python detect.py --weights ./runs/train/yolov5s_ufa/weights/best.pt --source ../yolov5/data/images --save-txt --conf-thres 0.6"
   ]
  },
  {
   "cell_type": "code",
   "execution_count": null,
   "metadata": {},
   "outputs": [],
   "source": [
    "#python train.py --img 960 --batch 10 --epochs 150 --hyp ./data/hyps/hyp.custom.yaml --optimizer Adam --data ./data/ufa.yaml --cfg ./models/yolov5s.yaml --weights yolov5s.pt --name yolov5s_kitti --device 0"
   ]
  }
 ],
 "metadata": {
  "kernelspec": {
   "display_name": "Python 3.9.13 ('base')",
   "language": "python",
   "name": "python3"
  },
  "language_info": {
   "codemirror_mode": {
    "name": "ipython",
    "version": 3
   },
   "file_extension": ".py",
   "mimetype": "text/x-python",
   "name": "python",
   "nbconvert_exporter": "python",
   "pygments_lexer": "ipython3",
   "version": "3.9.13"
  },
  "orig_nbformat": 4,
  "vscode": {
   "interpreter": {
    "hash": "b3b23bf8f3f6f09929416757a9e34fd2204c59a899796a7e0ad7c0ed7ebb50e4"
   }
  }
 },
 "nbformat": 4,
 "nbformat_minor": 2
}
