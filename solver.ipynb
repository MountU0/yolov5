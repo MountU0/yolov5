{
 "cells": [
  {
   "cell_type": "code",
   "execution_count": 1,
   "metadata": {},
   "outputs": [],
   "source": [
    "import numpy as np\n",
    "from scipy import linalg"
   ]
  },
  {
   "cell_type": "code",
   "execution_count": null,
   "metadata": {},
   "outputs": [],
   "source": [
    "#                 (0,244)--------(294,244)\n",
    "#                     |               |\n",
    "# Polygone ->         |               |\n",
    "#                     |               |\n",
    "#                   (0,0)--------(294, 0)"
   ]
  },
  {
   "cell_type": "code",
   "execution_count": null,
   "metadata": {},
   "outputs": [],
   "source": [
    "pol1 = (582/1280, 271/720)\n",
    "pol2 = (371/1280, 520/720)\n",
    "pol3 = (945/1280, 710/720)\n",
    "pol4 = (994/1280, 317/720)"
   ]
  },
  {
   "cell_type": "code",
   "execution_count": 33,
   "metadata": {},
   "outputs": [
    {
     "data": {
      "text/plain": [
       "array([0., 0.])"
      ]
     },
     "execution_count": 33,
     "metadata": {},
     "output_type": "execute_result"
    }
   ],
   "source": [
    "def getMatrixParams(X, U):\n",
    "    \"\"\"\n",
    "    REQUIRE:\n",
    "    X = [[xw,yw],[xw2,yw2],...,[xwN,ywN]] - WORLD COORDS\n",
    "    U = [[u,v],[u2,v2],...,[uN,vN]] - IMAGE COORDS\n",
    "\n",
    "    will return calibration matrix of p_{i,i}\n",
    "    \"\"\"\n",
    "    A = np.empty((len(X)*2, 12))\n",
    "    b = np.zeros(len(X)*2)\n",
    "\n",
    "    for k,pointW, pointPX in zip(range(0,len(X),2),X,U):\n",
    "        xw = pointW[0]\n",
    "        yw = pointW[1]\n",
    "        zw = 1\n",
    "        u = pointPX[0]\n",
    "        v = pointPX[1]\n",
    "\n",
    "        A[k] = np.array([xw, yw, zw, 1, 0, 0, 0, 0, -u*xw, -u*yw, -u*zw, -u])\n",
    "        A[k+1] = np.array([0, 0, 0, 0, xw, yw, zw, 1, -u*xw, -u*yw, -u*zw, -u])\n",
    "\n",
    "    solution = np.linalg.lstsq(A, b, rcond=None)[0]\n",
    "    p_matrix = np.reshape(solution,(3, 4))\n",
    "    return p_matrix\n",
    "\n",
    "def getRealCoords(A, pt):\n",
    "    b = np.append(np.array(pt), 1)\n",
    "    return np.linalg.lstsq(A, b, rcond=None)[0][:2]\n",
    "\n",
    "\n",
    "p_mat = getMatrixParams([[0,0]],[[245,392]])\n",
    "\n",
    "getRealCoords(p_mat, [481,452])"
   ]
  }
 ],
 "metadata": {
  "kernelspec": {
   "display_name": "base",
   "language": "python",
   "name": "python3"
  },
  "language_info": {
   "codemirror_mode": {
    "name": "ipython",
    "version": 3
   },
   "file_extension": ".py",
   "mimetype": "text/x-python",
   "name": "python",
   "nbconvert_exporter": "python",
   "pygments_lexer": "ipython3",
   "version": "3.10.9"
  },
  "orig_nbformat": 4
 },
 "nbformat": 4,
 "nbformat_minor": 2
}
