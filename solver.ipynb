{
 "cells": [
  {
   "cell_type": "code",
   "execution_count": 7,
   "metadata": {},
   "outputs": [],
   "source": [
    "import numpy as np\n",
    "from scipy import linalg\n",
    "from scipy.optimize import minimize"
   ]
  },
  {
   "cell_type": "code",
   "execution_count": 8,
   "metadata": {},
   "outputs": [],
   "source": [
    "#                 (0,244)--------(294,244)\n",
    "#                     |               |\n",
    "# Polygone ->         |               |\n",
    "#                     |               |\n",
    "#                   (0,0)--------(294, 0)"
   ]
  },
  {
   "attachments": {},
   "cell_type": "markdown",
   "metadata": {},
   "source": [
    "Zhang’s Calibration DLT METHOD"
   ]
  },
  {
   "cell_type": "code",
   "execution_count": 9,
   "metadata": {},
   "outputs": [
    {
     "name": "stdout",
     "output_type": "stream",
     "text": [
      "[(0, 244), (0, 122), (0, 0), (147, 0), (294, 0), (294, 122), (294, 244), (147, 244)] \n",
      " [[ 831  355]\n",
      " [ 691  523]\n",
      " [ 514  735]\n",
      " [ 874  858]\n",
      " [1401 1039]\n",
      " [1441  657]\n",
      " [1467  417]\n",
      " [1090  381]]\n",
      "[[ 1.34649732e+00  2.63158080e+00  5.17662265e+02]\n",
      " [-2.07245855e-01 -9.66656408e-01  7.39496589e+02]\n",
      " [-1.18351294e-03  1.67921001e-03  1.00000000e+00]]\n",
      "[177.12991014 211.52313345]\n"
     ]
    }
   ],
   "source": [
    "pol1 = (554/1280, 237/720)\n",
    "pol2 = (343/1280, 490/720)\n",
    "pol3 = (934/1280, 693/720)\n",
    "pol4 = (978/1280, 278/720)\n",
    "pol1_2 = (461/1280, 349/720)\n",
    "pol2_2 = (583/1280, 572/720)\n",
    "pol3_2 = (961/1280, 438/720)\n",
    "pol4_2 = (727/1280, 254/720)\n",
    "\n",
    "\n",
    "x_res, y_res = (1920, 1080)# resolution\n",
    "polygon = np.array([(pol1[0] * x_res, pol1[1] * y_res), \n",
    "                    (pol1_2[0] * x_res, pol1_2[1] * y_res), \n",
    "                    (pol2[0] * x_res, pol2[1] * y_res),\n",
    "                    (pol2_2[0] * x_res, pol2_2[1] * y_res),\n",
    "                    (pol3[0] * x_res, pol3[1] * y_res),\n",
    "                    (pol3_2[0] * x_res, pol3_2[1] * y_res),\n",
    "                    (pol4[0] * x_res, pol4[1] * y_res), \n",
    "                    (pol4_2[0] * x_res, pol4_2[1] * y_res)], dtype=int)#points for polygone in the center\n",
    "\n",
    "def zang(pt):\n",
    "    \n",
    "    pointsW = [(0, 244), (0,122), (0, 0), (147, 0), (294, 0), (294, 122), (294, 244), (147, 244)]\n",
    "    pointsPX = polygon\n",
    "    print(pointsW, '\\n', pointsPX)\n",
    "\n",
    "    if len(pointsPX) != len(pointsW): return\n",
    "\n",
    "    A = np.zeros((len(pointsW)*2, 9))\n",
    "    for k, W, PX in zip(range(0, len(pointsW)*2, 2),pointsW, pointsPX):\n",
    "        xw = W[0]\n",
    "        yw = W[1]\n",
    "\n",
    "        u = PX[0]\n",
    "        v = PX[1]\n",
    "\n",
    "        A[k] = [-xw, -yw, -1, 0, 0, 0, u*xw, u*yw, u]\n",
    "        A[k+1] = [0, 0, 0, -xw, -yw, -1, v*xw, v*yw, v]\n",
    "    \n",
    "    U,D,V = np.linalg.svd(A)\n",
    "    m_ext = np.reshape(V[-1] / V[-1][-1], (3,3))\n",
    "    vector = np.array([pt[0], pt[1], 1])\n",
    "    print(m_ext)\n",
    "    #BACKWARD PIXEL -> WORLD\n",
    "    result = np.linalg.solve(m_ext, vector)\n",
    "    result = result / result[-1]\n",
    "    print(result[:2])\n",
    "\n",
    "    #FORWARD WORLD -> PIXEL\n",
    "    # result = np.dot(m_ext, vector)\n",
    "    # result = result / result[-1]\n",
    "    # print(result)\n",
    "\n",
    "zang([1146, 435])"
   ]
  }
 ],
 "metadata": {
  "kernelspec": {
   "display_name": "base",
   "language": "python",
   "name": "python3"
  },
  "language_info": {
   "codemirror_mode": {
    "name": "ipython",
    "version": 3
   },
   "file_extension": ".py",
   "mimetype": "text/x-python",
   "name": "python",
   "nbconvert_exporter": "python",
   "pygments_lexer": "ipython3",
   "version": "3.10.9"
  },
  "orig_nbformat": 4
 },
 "nbformat": 4,
 "nbformat_minor": 2
}
