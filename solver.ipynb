{
 "cells": [
  {
   "cell_type": "code",
   "execution_count": 2,
   "metadata": {},
   "outputs": [],
   "source": [
    "import numpy as np\n",
    "from scipy import linalg\n",
    "from scipy.optimize import minimize"
   ]
  },
  {
   "cell_type": "code",
   "execution_count": 3,
   "metadata": {},
   "outputs": [],
   "source": [
    "#                 (0,244)--------(294,244)\n",
    "#                     |               |\n",
    "# Polygone ->         |               |\n",
    "#                     |               |\n",
    "#                   (0,0)--------(294, 0)"
   ]
  },
  {
   "attachments": {},
   "cell_type": "markdown",
   "metadata": {},
   "source": [
    "Zhang’s Calibration DLT METHOD"
   ]
  },
  {
   "cell_type": "code",
   "execution_count": 133,
   "metadata": {},
   "outputs": [
    {
     "name": "stdout",
     "output_type": "stream",
     "text": [
      "[(0, 244), (0, 122), (0, 0), (147, 0), (294, 0), (294, 122), (294, 244), (147, 244)] \n",
      " [[ 873  406]\n",
      " [ 729  576]\n",
      " [ 556  780]\n",
      " [ 921  901]\n",
      " [1417 1065]\n",
      " [1464  706]\n",
      " [1491  475]\n",
      " [1146  435]]\n",
      "[[ 1.51531153e+00  2.72585975e+00  5.56845287e+02]\n",
      " [-1.35147868e-01 -8.90424868e-01  7.89882949e+02]\n",
      " [-9.95718814e-04  1.67466324e-03  1.00000000e+00]]\n",
      "[  2.76354815 244.93238028]\n"
     ]
    }
   ],
   "source": [
    "pol1 = (582/1280, 271/720)\n",
    "pol1_2 = (486/1280, 384/720)\n",
    "pol2 = (371/1280, 520/720)\n",
    "pol2_2 = (614/1280, 601/720)\n",
    "pol3 = (945/1280, 710/720)\n",
    "pol3_2 = (976/1280, 471/720)\n",
    "pol4 = (994/1280, 317/720)\n",
    "pol4_2 = (764/1280, 290/720)\n",
    "\n",
    "\n",
    "x_res, y_res = (1920, 1080)# resolution\n",
    "polygon = np.array([(pol1[0] * x_res, pol1[1] * y_res), \n",
    "                    (pol1_2[0] * x_res, pol1_2[1] * y_res), \n",
    "                    (pol2[0] * x_res, pol2[1] * y_res),\n",
    "                    (pol2_2[0] * x_res, pol2_2[1] * y_res),\n",
    "                    (pol3[0] * x_res, pol3[1] * y_res),\n",
    "                    (pol3_2[0] * x_res, pol3_2[1] * y_res),\n",
    "                    (pol4[0] * x_res, pol4[1] * y_res), \n",
    "                    (pol4_2[0] * x_res, pol4_2[1] * y_res)], dtype=int)#points for polygone in the center\n",
    "\n",
    "def dlt(pt):\n",
    "    \n",
    "    pointsW = [(0, 244), (0,122), (0, 0), (147, 0), (294, 0), (294, 122), (294, 244), (147, 244)]\n",
    "    pointsPX = polygon\n",
    "    print(pointsW, '\\n', pointsPX)\n",
    "\n",
    "    if len(pointsPX) != len(pointsW): return\n",
    "\n",
    "    A = np.zeros((len(pointsW)*2, 9))\n",
    "    for k, W, PX in zip(range(0, len(pointsW)*2, 2),pointsW, pointsPX):\n",
    "        xw = W[0]\n",
    "        yw = W[1]\n",
    "\n",
    "        u = PX[0]\n",
    "        v = PX[1]\n",
    "\n",
    "        A[k] = [-xw, -yw, -1, 0, 0, 0, u*xw, u*yw, u]\n",
    "        A[k+1] = [0, 0, 0, -xw, -yw, -1, v*xw, v*yw, v]\n",
    "    \n",
    "    U,D,V = np.linalg.svd(A)\n",
    "    m_ext = np.reshape(V[-1] / V[-1][-1], (3,3))\n",
    "    vector = np.array([pt[0], pt[1], 1])\n",
    "    print(m_ext)\n",
    "    #BACKWARD PIXEL -> WORLD\n",
    "    result = np.linalg.solve(m_ext, vector)\n",
    "    result = result / result[-1]\n",
    "    print(result[:2])\n",
    "\n",
    "    #FORWARD WORLD -> PIXEL\n",
    "    # result = np.dot(m_ext, vector)\n",
    "    # result = result / result[-1]\n",
    "    # print(result)\n",
    "\n",
    "dlt([873, 406])"
   ]
  }
 ],
 "metadata": {
  "kernelspec": {
   "display_name": "base",
   "language": "python",
   "name": "python3"
  },
  "language_info": {
   "codemirror_mode": {
    "name": "ipython",
    "version": 3
   },
   "file_extension": ".py",
   "mimetype": "text/x-python",
   "name": "python",
   "nbconvert_exporter": "python",
   "pygments_lexer": "ipython3",
   "version": "3.10.9"
  },
  "orig_nbformat": 4
 },
 "nbformat": 4,
 "nbformat_minor": 2
}
