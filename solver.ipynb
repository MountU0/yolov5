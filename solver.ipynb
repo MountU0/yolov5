{
 "cells": [
  {
   "cell_type": "code",
   "execution_count": 2,
   "metadata": {},
   "outputs": [],
   "source": [
    "import numpy as np\n",
    "from scipy import linalg"
   ]
  },
  {
   "cell_type": "code",
   "execution_count": null,
   "metadata": {},
   "outputs": [],
   "source": [
    "#                 (0,244)--------(294,244)\n",
    "#                     |               |\n",
    "# Polygone ->         |               |\n",
    "#                     |               |\n",
    "#                   (0,0)--------(294, 0)"
   ]
  },
  {
   "cell_type": "code",
   "execution_count": 180,
   "metadata": {},
   "outputs": [
    {
     "name": "stdout",
     "output_type": "stream",
     "text": [
      "[[ 873  406]\n",
      " [ 729  576]\n",
      " [ 556  780]\n",
      " [ 921  901]\n",
      " [1417 1065]\n",
      " [1464  706]\n",
      " [1491  475]\n",
      " [1146  435]\n",
      " [1065  633]]\n",
      "[[-5.07965128e-09 -6.18782465e-09  3.04899151e-06 -4.75419602e-06]\n",
      " [-4.03091396e-11  3.67687354e-09  7.07105585e-01 -7.07107977e-01]\n",
      " [ 2.75357622e-12 -2.52367998e-12 -1.53345200e-09 -1.53345195e-09]]\n",
      "[-1.70520451e-06 -2.39237042e-06 -3.06690395e-09]\n"
     ]
    }
   ],
   "source": [
    "def getPMatrix(X, U):\n",
    "    \"\"\"\n",
    "    REQUIRE:\n",
    "    X = [[xw,yw],[xw2,yw2],...,[xwN,ywN]] - WORLD COORDS\n",
    "    U = [[u,v],[u2,v2],...,[uN,vN]] - IMAGE COORDS\n",
    "\n",
    "    will return calibration matrix of p_{i,i}\n",
    "    \"\"\"\n",
    "    A = np.empty((len(X)*2, 12))\n",
    "\n",
    "    for k, pointW, pointPX in zip(range(0, len(X), 2), X, U):\n",
    "        xw = pointW[0]\n",
    "        yw = pointW[1]\n",
    "        zw = 1\n",
    "        u = pointPX[0]\n",
    "        v = pointPX[1]\n",
    "\n",
    "        A[k] = np.array([xw, yw, zw, 1, 0, 0, 0, 0, -u*xw, -u*yw, -u*zw, -u])\n",
    "        A[k+1] = np.array([0, 0, 0, 0, xw, yw, zw, 1, -v*xw, -v*yw, -v*zw, -v])\n",
    "\n",
    "    A_T_A = np.dot(A.T, A)\n",
    "    eigen_values, eigen_vectors = np.linalg.eig(A_T_A)\n",
    "    eigen_vector_min = eigen_vectors[:, np.argmin(eigen_values)]\n",
    "    return np.reshape(eigen_vector_min.real, (3, 4))\n",
    "\n",
    "def getRealCoords(A, pt):\n",
    "    b = np.append(np.array(pt), 1)\n",
    "    return np.linalg.lstsq(A, b, rcond=None)[0]\n",
    "\n",
    "\n",
    "pol1 = (582/1280, 271/720)\n",
    "pol1_2 = (486/1280, 384/720)\n",
    "pol2 = (371/1280, 520/720)\n",
    "pol2_2 = (614/1280, 601/720)\n",
    "pol3 = (945/1280, 710/720)\n",
    "pol3_2 = (976/1280, 471/720)\n",
    "pol4 = (994/1280, 317/720)\n",
    "pol4_2 = (764/1280, 290/720)\n",
    "pol_c = (710/1280, 422/720)\n",
    "\n",
    "\n",
    "x_res, y_res = (1920, 1080)# resolution\n",
    "polygon = np.array([(pol1[0] * x_res, pol1[1] * y_res), \n",
    "                    (pol1_2[0] * x_res, pol1_2[1] * y_res), \n",
    "                    (pol2[0] * x_res, pol2[1] * y_res),\n",
    "                    (pol2_2[0] * x_res, pol2_2[1] * y_res),\n",
    "                    (pol3[0] * x_res, pol3[1] * y_res),\n",
    "                    (pol3_2[0] * x_res, pol3_2[1] * y_res),\n",
    "                    (pol4[0] * x_res, pol4[1] * y_res), \n",
    "                    (pol4_2[0] * x_res, pol4_2[1] * y_res),\n",
    "                    (pol_c[0] * x_res, pol_c[1] * y_res)], dtype=int)#points for polygone in the center\n",
    "\n",
    "p_matrix = getPMatrix([(0, 244), (0,122), (0, 0), (147, 0), (294, 0), (294, 122), (294, 244), (147, 244), (147, 122)], polygon)\n",
    "\n",
    "print(polygon)\n",
    "print(p_matrix)\n",
    "print(np.dot(p_matrix, [0, 0, 1, 1]))"
   ]
  }
 ],
 "metadata": {
  "kernelspec": {
   "display_name": "base",
   "language": "python",
   "name": "python3"
  },
  "language_info": {
   "codemirror_mode": {
    "name": "ipython",
    "version": 3
   },
   "file_extension": ".py",
   "mimetype": "text/x-python",
   "name": "python",
   "nbconvert_exporter": "python",
   "pygments_lexer": "ipython3",
   "version": "3.10.9"
  },
  "orig_nbformat": 4
 },
 "nbformat": 4,
 "nbformat_minor": 2
}
