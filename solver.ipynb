{
 "cells": [
  {
   "cell_type": "code",
   "execution_count": 3,
   "metadata": {},
   "outputs": [],
   "source": [
    "import numpy as np\n",
    "from scipy import linalg"
   ]
  },
  {
   "cell_type": "code",
   "execution_count": null,
   "metadata": {},
   "outputs": [],
   "source": [
    "#                 (0,244)--------(294,244)\n",
    "#                     |               |\n",
    "# Polygone ->         |               |\n",
    "#                     |               |\n",
    "#                   (0,0)--------(294, 0)"
   ]
  },
  {
   "cell_type": "code",
   "execution_count": 14,
   "metadata": {},
   "outputs": [
    {
     "name": "stdout",
     "output_type": "stream",
     "text": [
      "[[ 0.00000000e+000  2.44000000e+002  1.00000000e+000  1.00000000e+000\n",
      "   0.00000000e+000  0.00000000e+000  0.00000000e+000  0.00000000e+000\n",
      "   0.00000000e+000 -2.13012000e+005 -8.73000000e+002 -8.73000000e+002]\n",
      " [ 0.00000000e+000  0.00000000e+000  0.00000000e+000  0.00000000e+000\n",
      "   0.00000000e+000  2.44000000e+002  1.00000000e+000  1.00000000e+000\n",
      "   0.00000000e+000 -9.90640000e+004 -4.06000000e+002 -4.06000000e+002]\n",
      " [ 0.00000000e+000  0.00000000e+000  1.00000000e+000  1.00000000e+000\n",
      "   0.00000000e+000  0.00000000e+000  0.00000000e+000  0.00000000e+000\n",
      "   0.00000000e+000  0.00000000e+000 -5.56000000e+002 -5.56000000e+002]\n",
      " [ 0.00000000e+000  0.00000000e+000  0.00000000e+000  0.00000000e+000\n",
      "   0.00000000e+000  0.00000000e+000  1.00000000e+000  1.00000000e+000\n",
      "   0.00000000e+000  0.00000000e+000 -7.80000000e+002 -7.80000000e+002]\n",
      " [ 2.75859453e-313  0.00000000e+000  1.13635099e-322  2.75859453e-313\n",
      "   0.00000000e+000  1.18575755e-322  4.10074486e-322  0.00000000e+000\n",
      "   1.18575755e-322  0.00000000e+000  0.00000000e+000  0.00000000e+000]\n",
      " [ 0.00000000e+000  0.00000000e+000  0.00000000e+000  0.00000000e+000\n",
      "   0.00000000e+000  0.00000000e+000  0.00000000e+000  0.00000000e+000\n",
      "   0.00000000e+000  0.00000000e+000  0.00000000e+000  0.00000000e+000]\n",
      " [ 0.00000000e+000  0.00000000e+000  0.00000000e+000  0.00000000e+000\n",
      "   0.00000000e+000  0.00000000e+000  0.00000000e+000  0.00000000e+000\n",
      "   0.00000000e+000  0.00000000e+000  0.00000000e+000  0.00000000e+000]\n",
      " [ 0.00000000e+000  0.00000000e+000  0.00000000e+000  0.00000000e+000\n",
      "   0.00000000e+000  0.00000000e+000  0.00000000e+000  0.00000000e+000\n",
      "   0.00000000e+000  0.00000000e+000  0.00000000e+000  0.00000000e+000]]\n"
     ]
    }
   ],
   "source": [
    "def getPMatrix(X, U):\n",
    "    \"\"\"\n",
    "    REQUIRE:\n",
    "    X = [[xw,yw],[xw2,yw2],...,[xwN,ywN]] - WORLD COORDS\n",
    "    U = [[u,v],[u2,v2],...,[uN,vN]] - IMAGE COORDS\n",
    "\n",
    "    will return calibration matrix of p_{i,i}\n",
    "    \"\"\"\n",
    "    A = np.empty((len(X)*2, 12))\n",
    "    b = np.zeros(len(X)*2)\n",
    "\n",
    "    for k,pointW, pointPX in zip(range(0,len(X),2),X,U):\n",
    "        xw = pointW[0]\n",
    "        yw = pointW[1]\n",
    "        zw = 1\n",
    "        u = pointPX[0]\n",
    "        v = pointPX[1]\n",
    "\n",
    "        A[k] = np.array([xw, yw, zw, 1, 0, 0, 0, 0, -u*xw, -u*yw, -u*zw, -u])\n",
    "        A[k+1] = np.array([0, 0, 0, 0, xw, yw, zw, 1, -v*xw, -v*yw, -v*zw, -v])\n",
    "    \n",
    "    solution = np.linalg.lstsq(A, b, rcond=None)[0]\n",
    "    p_matrix = np.reshape(solution,(3, 4))\n",
    "    print(A)\n",
    "    return p_matrix\n",
    "\n",
    "def getRealCoords(A, pt):\n",
    "    b = np.append(np.array(pt), 1)\n",
    "    return np.linalg.lstsq(A, b, rcond=None)[0][:2]\n",
    "\n",
    "\n",
    "pol1 = (582/1280, 271/720)\n",
    "pol2 = (371/1280, 520/720)\n",
    "pol3 = (945/1280, 710/720)\n",
    "pol4 = (994/1280, 317/720)\n",
    "\n",
    "x_res, y_res = (1920, 1080)# resolution\n",
    "polygon = np.array([(pol1[0] * x_res, pol1[1] * y_res), \n",
    "                    (pol2[0] * x_res, pol2[1] * y_res),\n",
    "                    (pol3[0] * x_res, pol3[1] * y_res),\n",
    "                    (pol4[0] * x_res, pol4[1] * y_res)], dtype=int)#points for polygone in the center\n",
    "\n",
    "p_matrix = getPMatrix([(0, 244), (0, 0), (294, 0), (294, 244)], polygon)"
   ]
  }
 ],
 "metadata": {
  "kernelspec": {
   "display_name": "base",
   "language": "python",
   "name": "python3"
  },
  "language_info": {
   "codemirror_mode": {
    "name": "ipython",
    "version": 3
   },
   "file_extension": ".py",
   "mimetype": "text/x-python",
   "name": "python",
   "nbconvert_exporter": "python",
   "pygments_lexer": "ipython3",
   "version": "3.10.9"
  },
  "orig_nbformat": 4
 },
 "nbformat": 4,
 "nbformat_minor": 2
}
