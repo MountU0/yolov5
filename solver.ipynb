{
 "cells": [
  {
   "cell_type": "code",
   "execution_count": 1,
   "metadata": {},
   "outputs": [],
   "source": [
    "import numpy as np\n",
    "from scipy import linalg\n",
    "from scipy.optimize import minimize"
   ]
  },
  {
   "cell_type": "code",
   "execution_count": null,
   "metadata": {},
   "outputs": [],
   "source": [
    "#                 (0,244)--------(294,244)\n",
    "#                     |               |\n",
    "# Polygone ->         |               |\n",
    "#                     |               |\n",
    "#                   (0,0)--------(294, 0)"
   ]
  },
  {
   "cell_type": "code",
   "execution_count": 9,
   "metadata": {},
   "outputs": [
    {
     "name": "stdout",
     "output_type": "stream",
     "text": [
      "52.88674635983141\n",
      "52.88674635983748\n",
      "52.88674635985332\n",
      "52.88674635982916\n",
      "52.886746359836614\n",
      "52.88674636573509\n",
      "52.886746371796725\n",
      "52.88674635642662\n",
      "52.886746359822745\n",
      "52.886746359815916\n",
      "52.88674635988964\n",
      "7378055.163169945\n",
      "210529.69080382425\n",
      "941.685010206413\n",
      "61.209093865297696\n",
      "52.96937181588195\n",
      "52.88756558341601\n",
      "52.88675390143836\n",
      "52.88674637023698\n",
      "52.886746344053684\n",
      "187.08826537856842,-256.7315841672169,49.67222051302203,980.7968744514917,75.5307866326979,31.3957593743335,62.44511494838892,-166.01045337971075,196.03770232319383,68.7131706025153\n"
     ]
    }
   ],
   "source": [
    "pol1 = (582/1280, 271/720)\n",
    "pol1_2 = (486/1280, 384/720)\n",
    "pol2 = (371/1280, 520/720)\n",
    "pol2_2 = (614/1280, 601/720)\n",
    "pol3 = (945/1280, 710/720)\n",
    "pol3_2 = (976/1280, 471/720)\n",
    "pol4 = (994/1280, 317/720)\n",
    "pol4_2 = (764/1280, 290/720)\n",
    "\n",
    "\n",
    "x_res, y_res = (1920, 1080)# resolution\n",
    "polygon = np.array([(pol1[0] * x_res, pol1[1] * y_res), \n",
    "                    (pol1_2[0] * x_res, pol1_2[1] * y_res), \n",
    "                    (pol2[0] * x_res, pol2[1] * y_res),\n",
    "                    (pol2_2[0] * x_res, pol2_2[1] * y_res),\n",
    "                    (pol3[0] * x_res, pol3[1] * y_res),\n",
    "                    (pol3_2[0] * x_res, pol3_2[1] * y_res),\n",
    "                    (pol4[0] * x_res, pol4[1] * y_res), \n",
    "                    (pol4_2[0] * x_res, pol4_2[1] * y_res)], dtype=int)#points for polygone in the center\n",
    "\n",
    "\n",
    "def solveForCoefs(params):\n",
    "    \"\"\"\n",
    "    REQUIRE:\n",
    "    pointsW = [[xw,yw],[xw2,yw2],...,[xwN,ywN]] - WORLD COORDS\n",
    "    pointsPX = [[u,v],[u2,v2],...,[uN,vN]] - IMAGE COORDS\n",
    "    \"\"\"\n",
    "    fx, fy, cx, cy, phi1, phi2, phi3, tx, ty, tz = params\n",
    "\n",
    "    pointsW = [(0, 244), (0,122), (0, 0), (147, 0), (294, 0), (294, 122), (294, 244), (147, 244)]\n",
    "    pointsPX = polygon\n",
    "\n",
    "    # внутр. матрица\n",
    "    M_int = np.array([[fx, 0, cx, 0],\n",
    "                     [0, fy, cy, 0],\n",
    "                     [0, 0, 1, 0]])\n",
    "    # 3 матрицы поворота\n",
    "    m_rot1 = np.array([[1, 0, 0], [0, np.cos(phi1), -np.sin(phi1)], [0, np.sin(phi1), np.cos(phi1)]])\n",
    "    m_rot2 = np.array([[np.cos(phi2), 0, -np.sin(phi2)], [0, 1, 0], [np.sin(phi2), 0, np.cos(phi2)]])\n",
    "    m_rot3 = np.array([[np.cos(phi3), -np.sin(phi3), 0], [np.sin(phi3), np.cos(phi3), 0], [0, 0, 1]])\n",
    "    m_rot = np.matmul(np.matmul(m_rot1, m_rot2), m_rot3) # произведение матриц поворота\n",
    "\n",
    "    # расширение матрицы поворота (справа - вектором смещения, снизу стркой [0,0,0,1]). Теперь это внешняя матрица\n",
    "    M_ext = np.vstack((np.hstack((m_rot, [[tx], [ty], [tz]])), [0, 0, 0, 1]))\n",
    "    # произведение внутренней и вшешних матриц\n",
    "    A = np.matmul(M_int, M_ext)\n",
    "\n",
    "    # Задаем метрику кврадартичного отклонения\n",
    "    metric = 0\n",
    "    # Проходимся по всем world и внутренним точкам. Считаем сумму квадратичных отклонений\n",
    "    for W, PX in zip(pointsW, pointsPX):\n",
    "        X = np.append(W, [0, 1])\n",
    "        y_pred = np.matmul(A, X)\n",
    "        y_pred = y_pred / y_pred[-1]\n",
    "        y_pred += [1920/2, 1080/2, 0]\n",
    "        metric += np.sum((PX - y_pred[:2])**2)\n",
    "\n",
    "    metric = metric / len(pointsW)\n",
    "    print(metric)\n",
    "    return metric\n",
    "\n",
    "\n",
    "# x0 = [0.5, 0.5, 0.5, 0.5, 5, 5, 5, 243, -120, 200]\n",
    "x0 = [187.08826537858658,-256.73158416715137,49.6722205130153,980.7968744515073,75.53078665035575,31.395759410121656,62.44511493820521,-166.01045337973667,196.03770232314747,68.71317060268947]\n",
    "out = minimize(solveForCoefs, x0, method='SLSQP')\n",
    "print(*out.x, sep=\",\")"
   ]
  },
  {
   "cell_type": "code",
   "execution_count": 10,
   "metadata": {},
   "outputs": [
    {
     "name": "stdout",
     "output_type": "stream",
     "text": [
      "[[ 873  406]\n",
      " [ 729  576]\n",
      " [ 556  780]\n",
      " [ 921  901]\n",
      " [1417 1065]\n",
      " [1464  706]\n",
      " [1491  475]\n",
      " [1146  435]]\n",
      "[557.6685146  788.34530174]\n"
     ]
    }
   ],
   "source": [
    "def getRealcoords(pt):\n",
    "    fx, fy, cx, cy, phi1, phi2, phi3, tx, ty, tz = \\\n",
    "        [187.08826537856842,-256.7315841672169,49.67222051302203,980.7968744514917,75.5307866326979,31.3957593743335,62.44511494838892,-166.01045337971075,196.03770232319383,68.7131706025153]\n",
    "\n",
    "    \n",
    "    M_int = np.array([  [fx, 0, cx, 0],\n",
    "                        [0, fy, cy, 0],\n",
    "                        [0, 0, 1, 0]])\n",
    "\n",
    "    m_rot1 = np.array([[1, 0, 0], [0, np.cos(phi1), -np.sin(phi1)], [0, np.sin(phi1), np.cos(phi1)]])\n",
    "    m_rot2 = np.array([[np.cos(phi2), 0, -np.sin(phi2)], [0, 1, 0], [np.sin(phi2), 0, np.cos(phi2)]])    \n",
    "    m_rot3 = np.array([[np.cos(phi3), -np.sin(phi3), 0], [np.sin(phi3), np.cos(phi3), 0], [0, 0, 1]])\n",
    "    m_rot = np.matmul(np.matmul(m_rot2, m_rot1), m_rot3)\n",
    "    M_ext = np.vstack((np.hstack((m_rot, [[tx], [ty], [tz]])), [0, 0, 0, 1]))\n",
    "    A = np.matmul(M_int, M_ext)\n",
    "\n",
    "    b = np.array([pt[0], pt[1], 0, 1])\n",
    "\n",
    "    answ = np.matmul(A, b)\n",
    "    answ = answ / answ[-1]\n",
    "    answ += [1920/2, 1080/2, 0]\n",
    "    return answ[:2]\n",
    "\n",
    "\n",
    "\n",
    "\n",
    "print(polygon)\n",
    "print(getRealcoords([0, 0]))"
   ]
  }
 ],
 "metadata": {
  "kernelspec": {
   "display_name": "base",
   "language": "python",
   "name": "python3"
  },
  "language_info": {
   "codemirror_mode": {
    "name": "ipython",
    "version": 3
   },
   "file_extension": ".py",
   "mimetype": "text/x-python",
   "name": "python",
   "nbconvert_exporter": "python",
   "pygments_lexer": "ipython3",
   "version": "3.10.9"
  },
  "orig_nbformat": 4
 },
 "nbformat": 4,
 "nbformat_minor": 2
}
